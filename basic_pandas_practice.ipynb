{
 "cells": [
  {
   "cell_type": "markdown",
   "metadata": {},
   "source": [
    "JCDS 0412 - 22/10/2024 <br>\n",
    "Basic Pandas"
   ]
  },
  {
   "cell_type": "markdown",
   "metadata": {},
   "source": [
    "**Module 2: Basic Pandas (Create Series, Create DataFrame, and Indexing)**"
   ]
  },
  {
   "cell_type": "code",
   "execution_count": 1,
   "metadata": {},
   "outputs": [],
   "source": [
    "import pandas as pd\n",
    "import numpy as np"
   ]
  },
  {
   "cell_type": "code",
   "execution_count": 2,
   "metadata": {},
   "outputs": [
    {
     "data": {
      "text/plain": [
       "0     2.3\n",
       "1     7.3\n",
       "2     3.5\n",
       "3     4.8\n",
       "4    10.0\n",
       "5    12.0\n",
       "6     1.0\n",
       "Name: Total Revenue, dtype: float64"
      ]
     },
     "execution_count": 2,
     "metadata": {},
     "output_type": "execute_result"
    }
   ],
   "source": [
    "# Create Series From List\n",
    "total_revenue = [2.3, 7.3, 3.5, 4.8, 10.0, 12.0, 1.0]\n",
    "series_tot_rev = pd.Series(total_revenue, name=\"Total Revenue\")\n",
    "# pd.Series(total_revenue, index = ['a', 'b', 'c', 'd', 'e', 'f', 'g']) # Add Custom Index\n",
    "series_tot_rev"
   ]
  },
  {
   "cell_type": "code",
   "execution_count": 3,
   "metadata": {},
   "outputs": [
    {
     "data": {
      "text/plain": [
       "Jakarta        2.3\n",
       "Bandung        2.3\n",
       "Semarang       3.5\n",
       "Surabaya       4.8\n",
       "Yogyakarta    10.0\n",
       "Malang        12.0\n",
       "Depok          1.0\n",
       "Name: Total Revenue by City, dtype: float64"
      ]
     },
     "execution_count": 3,
     "metadata": {},
     "output_type": "execute_result"
    }
   ],
   "source": [
    "# Create Series From Dictionary\n",
    "total_revenue = {'Jakarta':2.3, 'Bandung' : 2.3, 'Semarang':3.5,\n",
    "                'Surabaya':4.8, 'Yogyakarta':10.0, 'Malang': 12.0,\n",
    "                'Depok':1.0}\n",
    "\n",
    "series_tot_rev = pd.Series(total_revenue, name= \"Total Revenue by City\")\n",
    "series_tot_rev"
   ]
  },
  {
   "cell_type": "code",
   "execution_count": 4,
   "metadata": {},
   "outputs": [
    {
     "name": "stdout",
     "output_type": "stream",
     "text": [
      "Total Revenue by City\n",
      "(7,)\n",
      "float64\n",
      "7\n"
     ]
    }
   ],
   "source": [
    "# Series Attributes\n",
    "# Name\n",
    "print(series_tot_rev.name)\n",
    "# Shape\n",
    "print(series_tot_rev.shape)\n",
    "# Type\n",
    "print(series_tot_rev.dtype)\n",
    "# Size\n",
    "print(series_tot_rev.size)"
   ]
  },
  {
   "cell_type": "code",
   "execution_count": 5,
   "metadata": {},
   "outputs": [
    {
     "data": {
      "text/html": [
       "<div>\n",
       "<style scoped>\n",
       "    .dataframe tbody tr th:only-of-type {\n",
       "        vertical-align: middle;\n",
       "    }\n",
       "\n",
       "    .dataframe tbody tr th {\n",
       "        vertical-align: top;\n",
       "    }\n",
       "\n",
       "    .dataframe thead th {\n",
       "        text-align: right;\n",
       "    }\n",
       "</style>\n",
       "<table border=\"1\" class=\"dataframe\">\n",
       "  <thead>\n",
       "    <tr style=\"text-align: right;\">\n",
       "      <th></th>\n",
       "      <th>City</th>\n",
       "      <th>Total Revenue</th>\n",
       "    </tr>\n",
       "  </thead>\n",
       "  <tbody>\n",
       "    <tr>\n",
       "      <th>0</th>\n",
       "      <td>Jakarta</td>\n",
       "      <td>2.3</td>\n",
       "    </tr>\n",
       "    <tr>\n",
       "      <th>1</th>\n",
       "      <td>Bandung</td>\n",
       "      <td>7.3</td>\n",
       "    </tr>\n",
       "    <tr>\n",
       "      <th>2</th>\n",
       "      <td>Semarang</td>\n",
       "      <td>3.5</td>\n",
       "    </tr>\n",
       "    <tr>\n",
       "      <th>3</th>\n",
       "      <td>Surabaya</td>\n",
       "      <td>4.8</td>\n",
       "    </tr>\n",
       "    <tr>\n",
       "      <th>4</th>\n",
       "      <td>Yogyakarta</td>\n",
       "      <td>10.0</td>\n",
       "    </tr>\n",
       "    <tr>\n",
       "      <th>5</th>\n",
       "      <td>Malang</td>\n",
       "      <td>12.0</td>\n",
       "    </tr>\n",
       "    <tr>\n",
       "      <th>6</th>\n",
       "      <td>Depok</td>\n",
       "      <td>1.0</td>\n",
       "    </tr>\n",
       "  </tbody>\n",
       "</table>\n",
       "</div>"
      ],
      "text/plain": [
       "         City  Total Revenue\n",
       "0     Jakarta            2.3\n",
       "1     Bandung            7.3\n",
       "2    Semarang            3.5\n",
       "3    Surabaya            4.8\n",
       "4  Yogyakarta           10.0\n",
       "5      Malang           12.0\n",
       "6       Depok            1.0"
      ]
     },
     "execution_count": 5,
     "metadata": {},
     "output_type": "execute_result"
    }
   ],
   "source": [
    "# Create DataFrame from list\n",
    "total_revenue = [[\"Jakarta\", 2.3],\n",
    "                 [\"Bandung\", 7.3],\n",
    "                 [\"Semarang\", 3.5],\n",
    "                 [\"Surabaya\", 4.8],\n",
    "                 [\"Yogyakarta\", 10],\n",
    "                 [\"Malang\", 12.0],\n",
    "                 [\"Depok\", 1.0]]\n",
    "\n",
    "df = pd.DataFrame(total_revenue, columns = ['City', 'Total Revenue'])\n",
    "df"
   ]
  },
  {
   "cell_type": "code",
   "execution_count": 6,
   "metadata": {},
   "outputs": [
    {
     "data": {
      "text/html": [
       "<div>\n",
       "<style scoped>\n",
       "    .dataframe tbody tr th:only-of-type {\n",
       "        vertical-align: middle;\n",
       "    }\n",
       "\n",
       "    .dataframe tbody tr th {\n",
       "        vertical-align: top;\n",
       "    }\n",
       "\n",
       "    .dataframe thead th {\n",
       "        text-align: right;\n",
       "    }\n",
       "</style>\n",
       "<table border=\"1\" class=\"dataframe\">\n",
       "  <thead>\n",
       "    <tr style=\"text-align: right;\">\n",
       "      <th></th>\n",
       "      <th>City</th>\n",
       "      <th>Total Revenue</th>\n",
       "    </tr>\n",
       "  </thead>\n",
       "  <tbody>\n",
       "    <tr>\n",
       "      <th>0</th>\n",
       "      <td>Jakarta</td>\n",
       "      <td>2.3</td>\n",
       "    </tr>\n",
       "    <tr>\n",
       "      <th>1</th>\n",
       "      <td>Bandung</td>\n",
       "      <td>7.3</td>\n",
       "    </tr>\n",
       "    <tr>\n",
       "      <th>2</th>\n",
       "      <td>Semarang</td>\n",
       "      <td>3.5</td>\n",
       "    </tr>\n",
       "    <tr>\n",
       "      <th>3</th>\n",
       "      <td>Surabaya</td>\n",
       "      <td>4.8</td>\n",
       "    </tr>\n",
       "    <tr>\n",
       "      <th>4</th>\n",
       "      <td>Yogyakarta</td>\n",
       "      <td>10.0</td>\n",
       "    </tr>\n",
       "    <tr>\n",
       "      <th>5</th>\n",
       "      <td>Malang</td>\n",
       "      <td>12.0</td>\n",
       "    </tr>\n",
       "    <tr>\n",
       "      <th>6</th>\n",
       "      <td>Depok</td>\n",
       "      <td>1.0</td>\n",
       "    </tr>\n",
       "  </tbody>\n",
       "</table>\n",
       "</div>"
      ],
      "text/plain": [
       "         City  Total Revenue\n",
       "0     Jakarta            2.3\n",
       "1     Bandung            7.3\n",
       "2    Semarang            3.5\n",
       "3    Surabaya            4.8\n",
       "4  Yogyakarta           10.0\n",
       "5      Malang           12.0\n",
       "6       Depok            1.0"
      ]
     },
     "execution_count": 6,
     "metadata": {},
     "output_type": "execute_result"
    }
   ],
   "source": [
    "# Create DataFrame from Dictionary\n",
    "# KeyDictionary -> Column\n",
    "# ValueDictionary -> Row\n",
    "total_revenue = {'City':['Jakarta', 'Bandung', 'Semarang', 'Surabaya', \n",
    "                       'Yogyakarta', 'Malang', 'Depok'],\n",
    "                'Total Revenue': [2.3, 7.3, 3.5, 4.8, 10.0, 12.0, 1.0]}\n",
    "\n",
    "df = pd.DataFrame(total_revenue)\n",
    "df"
   ]
  },
  {
   "cell_type": "code",
   "execution_count": 7,
   "metadata": {},
   "outputs": [
    {
     "name": "stdout",
     "output_type": "stream",
     "text": [
      "(7, 2)\n",
      "Index(['City', 'Total Revenue'], dtype='object')\n",
      "[['Jakarta' 2.3]\n",
      " ['Bandung' 7.3]\n",
      " ['Semarang' 3.5]\n",
      " ['Surabaya' 4.8]\n",
      " ['Yogyakarta' 10.0]\n",
      " ['Malang' 12.0]\n",
      " ['Depok' 1.0]]\n",
      "City              object\n",
      "Total Revenue    float64\n",
      "dtype: object\n",
      "14\n"
     ]
    }
   ],
   "source": [
    "# DataFrame Atributes\n",
    "# shape\n",
    "print(df.shape)\n",
    "# columns\n",
    "print(df.columns)\n",
    "# values\n",
    "print(df.values)\n",
    "# dtypes\n",
    "print(df.dtypes)\n",
    "# size\n",
    "print(df.size)"
   ]
  },
  {
   "cell_type": "code",
   "execution_count": 10,
   "metadata": {},
   "outputs": [
    {
     "data": {
      "text/html": [
       "<div>\n",
       "<style scoped>\n",
       "    .dataframe tbody tr th:only-of-type {\n",
       "        vertical-align: middle;\n",
       "    }\n",
       "\n",
       "    .dataframe tbody tr th {\n",
       "        vertical-align: top;\n",
       "    }\n",
       "\n",
       "    .dataframe thead th {\n",
       "        text-align: right;\n",
       "    }\n",
       "</style>\n",
       "<table border=\"1\" class=\"dataframe\">\n",
       "  <thead>\n",
       "    <tr style=\"text-align: right;\">\n",
       "      <th></th>\n",
       "      <th>City ID</th>\n",
       "      <th>City</th>\n",
       "      <th>Total Revenue</th>\n",
       "      <th>Region Manager</th>\n",
       "    </tr>\n",
       "  </thead>\n",
       "  <tbody>\n",
       "    <tr>\n",
       "      <th>0</th>\n",
       "      <td>C01</td>\n",
       "      <td>Jakarta</td>\n",
       "      <td>2.3</td>\n",
       "      <td>Person A</td>\n",
       "    </tr>\n",
       "    <tr>\n",
       "      <th>1</th>\n",
       "      <td>C02</td>\n",
       "      <td>Bandung</td>\n",
       "      <td>7.3</td>\n",
       "      <td>Person A</td>\n",
       "    </tr>\n",
       "    <tr>\n",
       "      <th>2</th>\n",
       "      <td>C03</td>\n",
       "      <td>Semarang</td>\n",
       "      <td>3.5</td>\n",
       "      <td>Person B</td>\n",
       "    </tr>\n",
       "    <tr>\n",
       "      <th>3</th>\n",
       "      <td>C04</td>\n",
       "      <td>Surabaya</td>\n",
       "      <td>4.8</td>\n",
       "      <td>Person C</td>\n",
       "    </tr>\n",
       "    <tr>\n",
       "      <th>4</th>\n",
       "      <td>C05</td>\n",
       "      <td>Yogyakarta</td>\n",
       "      <td>10.0</td>\n",
       "      <td>Person B</td>\n",
       "    </tr>\n",
       "    <tr>\n",
       "      <th>5</th>\n",
       "      <td>C06</td>\n",
       "      <td>Malang</td>\n",
       "      <td>12.0</td>\n",
       "      <td>Person C</td>\n",
       "    </tr>\n",
       "    <tr>\n",
       "      <th>6</th>\n",
       "      <td>C07</td>\n",
       "      <td>Depok</td>\n",
       "      <td>1.0</td>\n",
       "      <td>Person A</td>\n",
       "    </tr>\n",
       "  </tbody>\n",
       "</table>\n",
       "</div>"
      ],
      "text/plain": [
       "  City ID        City  Total Revenue Region Manager\n",
       "0     C01     Jakarta            2.3       Person A\n",
       "1     C02     Bandung            7.3       Person A\n",
       "2     C03    Semarang            3.5       Person B\n",
       "3     C04    Surabaya            4.8       Person C\n",
       "4     C05  Yogyakarta           10.0       Person B\n",
       "5     C06      Malang           12.0       Person C\n",
       "6     C07       Depok            1.0       Person A"
      ]
     },
     "execution_count": 10,
     "metadata": {},
     "output_type": "execute_result"
    }
   ],
   "source": [
    "# Fancy Indexing\n",
    "# Label-Based Indexing -> df.loc[row_label, col_label]\n",
    "# Position-Based Indexing -> df.iloc[row, col]\n",
    "\n",
    "total_revenue = {'City ID':['C01','C02','C03', 'C04', 'C05', 'C06', 'C07'],\n",
    "                'City':['Jakarta', 'Bandung', 'Semarang', 'Surabaya', \n",
    "                        'Yogyakarta', 'Malang', 'Depok'],\n",
    "                'Total Revenue': [2.3, 7.3, 3.5, 4.8, 10.0, 12.0, 1.0],\n",
    "                'Region Manager': ['Person A', 'Person A', 'Person B', 'Person C', 'Person B', 'Person C', 'Person A']}\n",
    "\n",
    "df = pd.DataFrame(total_revenue)\n",
    "df"
   ]
  },
  {
   "cell_type": "code",
   "execution_count": 12,
   "metadata": {},
   "outputs": [],
   "source": [
    "# Set Index\n",
    "# df = df.set_index('City ID')\n",
    "df.set_index('City ID', inplace=True) # Menerapkan perubahan pada data frame aslinya"
   ]
  },
  {
   "cell_type": "code",
   "execution_count": 14,
   "metadata": {},
   "outputs": [
    {
     "data": {
      "text/plain": [
       "City ID\n",
       "C01       Jakarta\n",
       "C02       Bandung\n",
       "C03      Semarang\n",
       "C04      Surabaya\n",
       "C05    Yogyakarta\n",
       "C06        Malang\n",
       "C07         Depok\n",
       "Name: City, dtype: object"
      ]
     },
     "execution_count": 14,
     "metadata": {},
     "output_type": "execute_result"
    }
   ],
   "source": [
    "df['City']"
   ]
  }
 ],
 "metadata": {
  "kernelspec": {
   "display_name": "jcds0412",
   "language": "python",
   "name": "python3"
  },
  "language_info": {
   "codemirror_mode": {
    "name": "ipython",
    "version": 3
   },
   "file_extension": ".py",
   "mimetype": "text/x-python",
   "name": "python",
   "nbconvert_exporter": "python",
   "pygments_lexer": "ipython3",
   "version": "3.12.5"
  }
 },
 "nbformat": 4,
 "nbformat_minor": 2
}
